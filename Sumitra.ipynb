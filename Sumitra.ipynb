{
 "cells": [
  {
   "cell_type": "code",
   "execution_count": 1,
   "id": "00621fdc-d648-416f-b41d-7e9d17d67bed",
   "metadata": {},
   "outputs": [],
   "source": [
    "import pandas as pd\n",
    "import matplotlib.pyplot as plt\n",
    "from sklearn.preprocessing import LabelEncoder, StandardScaler\n",
    "from sklearn.model_selection import train_test_split\n",
    "from sklearn.linear_model import LogisticRegression\n",
    "from sklearn.svm import SVC\n",
    "from sklearn.neighbors import KNeighborsClassifier\n",
    "from sklearn.metrics import classification_report\n",
    "from sklearn.metrics import confusion_matrix"
   ]
  },
  {
   "cell_type": "code",
   "execution_count": 2,
   "id": "a9bd5b5d-19a2-4c0a-8911-112f746af04a",
   "metadata": {},
   "outputs": [
    {
     "name": "stdout",
     "output_type": "stream",
     "text": [
      "        Year   Lag1   Lag2   Lag3   Lag4   Lag5   Volume  Today Direction\n",
      "0     2001.0  0.381 -0.192 -2.624 -1.055  5.010  1.19130  0.959        Up\n",
      "1     2001.0  0.959  0.381 -0.192 -2.624 -1.055  1.29650  1.032        Up\n",
      "2     2001.0  1.032  0.959  0.381 -0.192 -2.624  1.41120 -0.623      Down\n",
      "3     2001.0 -0.623  1.032  0.959  0.381 -0.192  1.27600  0.614        Up\n",
      "4     2001.0  0.614 -0.623  1.032  0.959  0.381  1.20570  0.213        Up\n",
      "...      ...    ...    ...    ...    ...    ...      ...    ...       ...\n",
      "1250  2005.0  0.422  0.252 -0.024 -0.584 -0.285  1.88850  0.043        Up\n",
      "1251  2005.0  0.043  0.422  0.252 -0.024 -0.584  1.28581 -0.955      Down\n",
      "1252  2005.0 -0.955  0.043  0.422  0.252 -0.024  1.54047  0.130        Up\n",
      "1253  2005.0  0.130 -0.955  0.043  0.422  0.252  1.42236 -0.298      Down\n",
      "1254  2005.0 -0.298  0.130 -0.955  0.043  0.422  1.38254 -0.489      Down\n",
      "\n",
      "[1255 rows x 9 columns]\n"
     ]
    }
   ],
   "source": [
    "# data import\n",
    "data = pd.read_csv(\"dataset.csv\")\n",
    "print(data)"
   ]
  },
  {
   "cell_type": "code",
   "execution_count": 3,
   "id": "8b7af54e-6a92-4708-8671-4444add97342",
   "metadata": {},
   "outputs": [
    {
     "name": "stdout",
     "output_type": "stream",
     "text": [
      "--Null values--\n",
      "Year         1\n",
      "Lag1         0\n",
      "Lag2         2\n",
      "Lag3         0\n",
      "Lag4         1\n",
      "Lag5         0\n",
      "Volume       2\n",
      "Today        0\n",
      "Direction    2\n",
      "dtype: int64\n",
      "        Year  Lag1  Lag2   Lag3   Lag4   Lag5  Volume  Today Direction\n",
      "626   2003.0  0.34   NaN -0.810  1.164  0.802     NaN -0.559       NaN\n",
      "1168     NaN -0.60   NaN -0.657    NaN  0.166     NaN  0.596       NaN\n"
     ]
    }
   ],
   "source": [
    "#data cleaning\n",
    "null_value = data.isnull().sum()\n",
    "print(\"--Null values--\")\n",
    "print(null_value)\n",
    "print(data[data.isnull().any(axis=1)])"
   ]
  },
  {
   "cell_type": "code",
   "execution_count": 4,
   "id": "0d208bf8-5f60-47b8-ba6a-520081101c0b",
   "metadata": {},
   "outputs": [
    {
     "name": "stdout",
     "output_type": "stream",
     "text": [
      "--Duplicated values--\n",
      "3\n",
      "       Year   Lag1   Lag2   Lag3   Lag4   Lag5   Volume  Today Direction\n",
      "430  2002.0 -1.461 -3.226  1.821  2.486 -1.728  1.72187  4.002        Up\n",
      "431  2002.0 -1.461 -3.226  1.821  2.486 -1.728  1.72187  4.002        Up\n",
      "498  2003.0  2.247 -0.048  3.320  0.049  0.456  1.43590 -0.654      Down\n",
      "499  2003.0  2.247 -0.048  3.320  0.049  0.456  1.43590 -0.654      Down\n",
      "799  2004.0 -1.435  1.246 -1.522 -1.463 -0.577  1.60060  0.562        Up\n",
      "800  2004.0 -1.435  1.246 -1.522 -1.463 -0.577  1.60060  0.562        Up\n"
     ]
    }
   ],
   "source": [
    "duplicated_values = data.duplicated().sum()\n",
    "print(\"--Duplicated values--\")\n",
    "print(duplicated_values)\n",
    "print(data[data.duplicated(keep=False)])"
   ]
  },
  {
   "cell_type": "code",
   "execution_count": 5,
   "id": "c30cc543-4cc1-4dcf-ad16-af5771cc6425",
   "metadata": {},
   "outputs": [
    {
     "name": "stdout",
     "output_type": "stream",
     "text": [
      "(1250, 9)\n",
      "              Year         Lag1         Lag2         Lag3         Lag4  \\\n",
      "count  1250.000000  1250.000000  1250.000000  1250.000000  1250.000000   \n",
      "mean   2003.016000     0.003834     0.003919     0.001716     0.001636   \n",
      "std       1.409018     1.136299     1.136280     1.138703     1.138774   \n",
      "min    2001.000000    -4.922000    -4.922000    -4.922000    -4.922000   \n",
      "25%    2002.000000    -0.639500    -0.639500    -0.640000    -0.640000   \n",
      "50%    2003.000000     0.039000     0.039000     0.038500     0.038500   \n",
      "75%    2004.000000     0.596750     0.596750     0.596750     0.596750   \n",
      "max    2005.000000     5.733000     5.733000     5.733000     5.733000   \n",
      "\n",
      "             Lag5       Volume        Today  \n",
      "count  1250.00000  1250.000000  1250.000000  \n",
      "mean      0.00561     1.478305     0.003138  \n",
      "std       1.14755     0.360357     1.136334  \n",
      "min      -4.92200     0.356070    -4.922000  \n",
      "25%      -0.64000     1.257400    -0.639500  \n",
      "50%       0.03850     1.422950     0.038500  \n",
      "75%       0.59700     1.641675     0.596750  \n",
      "max       5.73300     3.152470     5.733000  \n"
     ]
    }
   ],
   "source": [
    "data = data.dropna()\n",
    "data = data.drop_duplicates()\n",
    "print(data.shape)\n",
    "print(data.describe())"
   ]
  },
  {
   "cell_type": "code",
   "execution_count": 6,
   "id": "4b5f9b39-2b10-4fae-b588-6f0dc40b3a50",
   "metadata": {},
   "outputs": [
    {
     "name": "stdout",
     "output_type": "stream",
     "text": [
      "['Up' 'Down']\n",
      "[1 0]\n",
      "     Year   Lag1   Lag2   Lag3   Lag4   Lag5  Volume  Today  Direction\n",
      "0  2001.0  0.381 -0.192 -2.624 -1.055  5.010  1.1913  0.959          1\n",
      "1  2001.0  0.959  0.381 -0.192 -2.624 -1.055  1.2965  1.032          1\n",
      "2  2001.0  1.032  0.959  0.381 -0.192 -2.624  1.4112 -0.623          0\n",
      "3  2001.0 -0.623  1.032  0.959  0.381 -0.192  1.2760  0.614          1\n",
      "4  2001.0  0.614 -0.623  1.032  0.959  0.381  1.2057  0.213          1\n"
     ]
    }
   ],
   "source": [
    "#label encoding\n",
    "# https://www.geeksforgeeks.org/ml-label-encoding-of-datasets-in-python/\n",
    "\n",
    "print(data['Direction'].unique())\n",
    "\n",
    "label_encoder = LabelEncoder()\n",
    "data['Direction']= label_encoder.fit_transform(data['Direction'])\n",
    "\n",
    "print(data['Direction'].unique())\n",
    "print(data.head(5))"
   ]
  },
  {
   "cell_type": "code",
   "execution_count": 7,
   "id": "ce932059-3ec1-41a7-9831-abdd1a959479",
   "metadata": {},
   "outputs": [
    {
     "name": "stdout",
     "output_type": "stream",
     "text": [
      "       Lag1   Lag2   Lag3   Lag4   Lag5   Volume\n",
      "646  -1.766  0.272 -1.026  0.286 -0.181  1.35170\n",
      "526  -0.160 -1.269 -0.810  0.757 -1.009  1.48930\n",
      "1096  0.696  1.009 -0.458 -1.003  0.419  1.88726\n",
      "193   0.456 -0.787 -1.863  0.694 -0.153  1.29490\n",
      "997   0.046  0.342  0.904  0.038 -0.749  0.95610\n",
      "...     ...    ...    ...    ...    ...      ...\n",
      "73    1.594 -1.216 -1.498 -0.854  1.254  1.20360\n",
      "1146  0.560  0.457  0.173 -0.377  0.541  2.00168\n",
      "1002 -0.134  0.008 -0.007  0.715 -0.431  0.78690\n",
      "206  -0.273  1.453  1.439  0.286  2.295  1.41130\n",
      "871  -0.545 -0.298  0.851  0.364 -0.416  1.81290\n",
      "\n",
      "[875 rows x 6 columns]\n"
     ]
    }
   ],
   "source": [
    "# Define features and target\n",
    "X = data.drop(columns=['Year', 'Today', 'Direction'])\n",
    "y = data['Direction']\n",
    "\n",
    "# Split the dataset\n",
    "X_train, X_test, y_train, y_test = train_test_split(X, y, test_size=0.3, random_state=5)\n",
    "print(X_train)"
   ]
  },
  {
   "cell_type": "code",
   "execution_count": 8,
   "id": "33ce90ca-655f-45e4-ba9a-6d6a63916df1",
   "metadata": {},
   "outputs": [
    {
     "name": "stdout",
     "output_type": "stream",
     "text": [
      "[[-1.52328442e+00  2.42179750e-01 -9.04420250e-01  2.54921136e-01\n",
      "  -1.65844750e-01 -3.20590041e-01]\n",
      " [-8.80620384e-02 -1.11012491e+00 -7.12981760e-01  6.70989623e-01\n",
      "  -9.04575286e-01  5.74628455e-02]\n",
      " [ 6.76913279e-01  8.88934155e-01 -4.01007926e-01 -8.83746124e-01\n",
      "   3.69467232e-01  1.15084894e+00]\n",
      " ...\n",
      " [-6.48268068e-02  1.05065309e-02 -1.29145013e-03  6.33887975e-01\n",
      "  -3.88891410e-01 -1.87236526e+00]\n",
      " [-1.89045930e-01  1.27856639e+00  1.28028288e+00  2.54921136e-01\n",
      "   2.04320936e+00 -1.56840389e-01]\n",
      " [-4.32122199e-01 -2.58023792e-01  7.59144772e-01  3.23824198e-01\n",
      "  -3.75508610e-01  9.46546523e-01]]\n"
     ]
    }
   ],
   "source": [
    "# Feature Scaling\n",
    "scaler = StandardScaler()\n",
    "X_train = scaler.fit_transform(X_train)\n",
    "X_test = scaler.transform(X_test)\n",
    "print(X_train)"
   ]
  },
  {
   "cell_type": "code",
   "execution_count": 9,
   "id": "2bef8b30-49df-4f1d-b2a8-ea779bb55b8b",
   "metadata": {},
   "outputs": [
    {
     "name": "stdout",
     "output_type": "stream",
     "text": [
      "Logistic Regression Accuracy : 52.533%\n",
      "--Report--\n",
      "[[ 30 154]\n",
      " [ 24 167]]\n",
      "              precision    recall  f1-score   support\n",
      "\n",
      "     Down(0)       0.56      0.16      0.25       184\n",
      "       Up(1)       0.52      0.87      0.65       191\n",
      "\n",
      "    accuracy                           0.53       375\n",
      "   macro avg       0.54      0.52      0.45       375\n",
      "weighted avg       0.54      0.53      0.46       375\n",
      "\n"
     ]
    }
   ],
   "source": [
    "# Fit the Logistic Regression model using the training dataset.\n",
    "# Print the accuracy of the model.\n",
    "# Print the classification report including precision, recall, and F1-score.\n",
    "\n",
    "#ref\n",
    "# https://scikit-learn.org/stable/modules/generated/sklearn.metrics.classification_report.html#sklearn.metrics.classification_report\n",
    "\n",
    "\n",
    "log_regress = LogisticRegression()\n",
    "log_regress.fit(X_train,y_train)\n",
    "# print(log_regress.intercept_)\n",
    "# print(log_regress.coef_)\n",
    "\n",
    "y_pred_log = log_regress.predict(X_test)\n",
    "# print(y_pred_log)\n",
    "\n",
    "log_accuracy = log_regress.score(X_test,y_test)\n",
    "print(f\"Logistic Regression Accuracy : {100*log_accuracy:.3f}%\")\n",
    "\n",
    "print(\"--Report--\")\n",
    "log_report = classification_report(y_test,y_pred_log,target_names=['Down(0)','Up(1)'])\n",
    "log_con = confusion_matrix(y_test, y_pred_log)\n",
    "print(log_con)\n",
    "print(log_report)"
   ]
  },
  {
   "cell_type": "code",
   "execution_count": 10,
   "id": "cc7e2f0a-9367-4719-8bae-64374da62b72",
   "metadata": {},
   "outputs": [
    {
     "name": "stdout",
     "output_type": "stream",
     "text": [
      "SVM Accuracy : 57.600%\n",
      "--Report--\n",
      "[[ 99  85]\n",
      " [ 74 117]]\n",
      "              precision    recall  f1-score   support\n",
      "\n",
      "     Down(0)       0.57      0.54      0.55       184\n",
      "       Up(1)       0.58      0.61      0.60       191\n",
      "\n",
      "    accuracy                           0.58       375\n",
      "   macro avg       0.58      0.58      0.58       375\n",
      "weighted avg       0.58      0.58      0.58       375\n",
      "\n"
     ]
    }
   ],
   "source": [
    "# Fit the SVM model using the training dataset.\n",
    "# Print the accuracy of the model.\n",
    "# Print the classification report including precision, recall, and F1-score.\n",
    "\n",
    "\n",
    "# Create and train the SVM model\n",
    "svc = SVC(kernel='sigmoid', C=10, class_weight='balanced')\n",
    "svc.fit(X_train, y_train)\n",
    "\n",
    "y_pred_svc = svc.predict(X_test)\n",
    "\n",
    "svm_accuracy = svc.score(X_test,y_test)\n",
    "print(f\"SVM Accuracy : {100*svm_accuracy:.3f}%\")\n",
    "\n",
    "print(\"--Report--\")\n",
    "svm_report = classification_report(y_test,y_pred_svc,target_names=['Down(0)','Up(1)'])\n",
    "svm_con = confusion_matrix(y_test, y_pred_svc)\n",
    "print(svm_con)\n",
    "print(svm_report)"
   ]
  },
  {
   "cell_type": "code",
   "execution_count": 11,
   "id": "47e02863-ac94-46dd-b7ca-7e7d90f642f1",
   "metadata": {},
   "outputs": [
    {
     "name": "stdout",
     "output_type": "stream",
     "text": [
      "K Nearest Neighbor Accuracy : 52.000%\n",
      "--Report--\n",
      "[[ 83 101]\n",
      " [ 79 112]]\n",
      "              precision    recall  f1-score   support\n",
      "\n",
      "     Down(0)       0.51      0.45      0.48       184\n",
      "       Up(1)       0.53      0.59      0.55       191\n",
      "\n",
      "    accuracy                           0.52       375\n",
      "   macro avg       0.52      0.52      0.52       375\n",
      "weighted avg       0.52      0.52      0.52       375\n",
      "\n"
     ]
    }
   ],
   "source": [
    "\n",
    "from sklearn.neighbors import KNeighborsClassifier\n",
    "\n",
    "knn = KNeighborsClassifier(n_neighbors=7) \n",
    "knn.fit(X_train,y_train)\n",
    "\n",
    "y_pred_knn = knn.predict(X_test)\n",
    "# print(y_pred_knn)\n",
    "\n",
    "knn_accuracy = knn.score(X_test,y_test)\n",
    "print(f\"K Nearest Neighbor Accuracy : {100*knn_accuracy:.3f}%\")\n",
    "\n",
    "print(\"--Report--\")\n",
    "knn_report = classification_report(y_test,y_pred_knn,target_names=['Down(0)','Up(1)'])\n",
    "knn_con = confusion_matrix(y_test, y_pred_knn)\n",
    "print(knn_con)\n",
    "print(knn_report)"
   ]
  }
 ],
 "metadata": {
  "kernelspec": {
   "display_name": "Python 3 (ipykernel)",
   "language": "python",
   "name": "python3"
  },
  "language_info": {
   "codemirror_mode": {
    "name": "ipython",
    "version": 3
   },
   "file_extension": ".py",
   "mimetype": "text/x-python",
   "name": "python",
   "nbconvert_exporter": "python",
   "pygments_lexer": "ipython3",
   "version": "3.12.7"
  }
 },
 "nbformat": 4,
 "nbformat_minor": 5
}
